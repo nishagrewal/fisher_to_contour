{
 "cells": [
  {
   "cell_type": "code",
   "execution_count": 3,
   "metadata": {},
   "outputs": [
    {
     "ename": "ModuleNotFoundError",
     "evalue": "No module named 'modules'",
     "output_type": "error",
     "traceback": [
      "\u001b[0;31m---------------------------------------------------------------------------\u001b[0m",
      "\u001b[0;31mModuleNotFoundError\u001b[0m                       Traceback (most recent call last)",
      "Cell \u001b[0;32mIn[3], line 9\u001b[0m\n\u001b[1;32m      7\u001b[0m \u001b[38;5;28;01mfrom\u001b[39;00m \u001b[38;5;21;01mscipy\u001b[39;00m\u001b[38;5;21;01m.\u001b[39;00m\u001b[38;5;21;01mstats\u001b[39;00m \u001b[38;5;28;01mimport\u001b[39;00m norm\n\u001b[1;32m      8\u001b[0m \u001b[38;5;28;01mfrom\u001b[39;00m \u001b[38;5;21;01mmatplotlib\u001b[39;00m \u001b[38;5;28;01mimport\u001b[39;00m rc\n\u001b[0;32m----> 9\u001b[0m \u001b[38;5;28;01mfrom\u001b[39;00m \u001b[38;5;21;01mscripts\u001b[39;00m\u001b[38;5;21;01m.\u001b[39;00m\u001b[38;5;21;01mplot_contour\u001b[39;00m \u001b[38;5;28;01mimport\u001b[39;00m plot_ellipse\n\u001b[1;32m     10\u001b[0m rc(\u001b[38;5;124m'\u001b[39m\u001b[38;5;124mtext\u001b[39m\u001b[38;5;124m'\u001b[39m, usetex\u001b[38;5;241m=\u001b[39m\u001b[38;5;28;01mTrue\u001b[39;00m)\n\u001b[1;32m     11\u001b[0m rc(\u001b[38;5;124m'\u001b[39m\u001b[38;5;124mfont\u001b[39m\u001b[38;5;124m'\u001b[39m, family\u001b[38;5;241m=\u001b[39m\u001b[38;5;124m'\u001b[39m\u001b[38;5;124mserif\u001b[39m\u001b[38;5;124m'\u001b[39m)\n",
      "File \u001b[0;32m~/fisher_to_contour/scripts/plot_contour.py:3\u001b[0m\n\u001b[1;32m      1\u001b[0m \u001b[38;5;28;01mimport\u001b[39;00m \u001b[38;5;21;01mnumpy\u001b[39;00m \u001b[38;5;28;01mas\u001b[39;00m \u001b[38;5;21;01mnp\u001b[39;00m\n\u001b[1;32m      2\u001b[0m \u001b[38;5;28;01mimport\u001b[39;00m \u001b[38;5;21;01mmatplotlib\u001b[39;00m\u001b[38;5;21;01m.\u001b[39;00m\u001b[38;5;21;01mpyplot\u001b[39;00m \u001b[38;5;28;01mas\u001b[39;00m \u001b[38;5;21;01mplt\u001b[39;00m\n\u001b[0;32m----> 3\u001b[0m \u001b[38;5;28;01mfrom\u001b[39;00m \u001b[38;5;21;01mmodules\u001b[39;00m\u001b[38;5;21;01m.\u001b[39;00m\u001b[38;5;21;01mellipse\u001b[39;00m \u001b[38;5;28;01mimport\u001b[39;00m CosmoFisher\n\u001b[1;32m      4\u001b[0m \u001b[38;5;28;01mfrom\u001b[39;00m \u001b[38;5;21;01mscipy\u001b[39;00m\u001b[38;5;21;01m.\u001b[39;00m\u001b[38;5;21;01mstats\u001b[39;00m \u001b[38;5;28;01mimport\u001b[39;00m norm\n\u001b[1;32m      7\u001b[0m \u001b[38;5;28;01mdef\u001b[39;00m \u001b[38;5;21mplot_ellipse\u001b[39m(p1,p2,method,name,axs\u001b[38;5;241m=\u001b[39m\u001b[38;5;28;01mNone\u001b[39;00m,color\u001b[38;5;241m=\u001b[39m\u001b[38;5;28;01mNone\u001b[39;00m,label\u001b[38;5;241m=\u001b[39m\u001b[38;5;28;01mNone\u001b[39;00m,dash\u001b[38;5;241m=\u001b[39m\u001b[38;5;28;01mFalse\u001b[39;00m,legend\u001b[38;5;241m=\u001b[39m\u001b[38;5;28;01mFalse\u001b[39;00m):\n",
      "\u001b[0;31mModuleNotFoundError\u001b[0m: No module named 'modules'"
     ]
    }
   ],
   "source": [
    "import numpy as np\n",
    "import h5py\n",
    "import matplotlib.pyplot as plt\n",
    "from mpl_toolkits.axes_grid1 import make_axes_locatable\n",
    "import matplotlib\n",
    "from matplotlib.patches import Ellipse\n",
    "from scipy.stats import norm\n",
    "from matplotlib import rc\n",
    "from scripts.plot_contour import plot_ellipse\n",
    "rc('text', usetex=True)\n",
    "rc('font', family='serif')\n",
    "plt.rc('xtick', labelsize=16) \n",
    "plt.rc('ytick', labelsize=16)"
   ]
  },
  {
   "cell_type": "code",
   "execution_count": 2,
   "metadata": {},
   "outputs": [],
   "source": [
    "# dictionary of cosmological parameters - update as needed\n",
    "cosmo_params = {\n",
    "        'Om': {'value': 0.26, 'step_size': 0.01, 'label': '$\\Omega_m$', 'box_range': 0.015},\n",
    "        's8': {'value': 0.84, 'step_size': 0.015, 'label': '$\\sigma_8$', 'box_range': 0.023},\n",
    "        'w0': {'value': -1, 'step_size': 0.05, 'label': '$w_0$', 'box_range': 0.107},\n",
    "        'ns': {'value': 0.9649, 'step_size': 0.02, 'label': '$n_s$', 'box_range': 0.125},\n",
    "        'Ob': {'value': 0.0493, 'step_size': 0.001, 'label': '$\\Omega_b$', 'box_range': 0.0125},\n",
    "        'H0': {'value': 67.3, 'step_size': 2, 'label': '$H_0$', 'box_range': 17},\n",
    "        'bary_Mc': {'value': 13.82, 'step_size': 0.1, 'label': '$M_c^0$', 'box_range': 0.5},\n",
    "        'bary_nu': {'value': 0.0, 'step_size': 0.1, 'label': '$\\\\nu$', 'box_range': 5},\n",
    "        }"
   ]
  },
  {
   "cell_type": "code",
   "execution_count": null,
   "metadata": {},
   "outputs": [],
   "source": [
    "params_hist_lim = {\n",
    "    ('Om', 's8'): {'axs_00_ylim': 30, 'axs_11_ylim': 10},\n",
    "    ('Om', 'w0'): {'axs_00_ylim': 105, 'axs_11_ylim': 2},\n",
    "    ('s8', 'bary_Mc'): {'axs_00_ylim': 100, 'axs_11_ylim': 1.2},\n",
    "    ('bary_Mc', 'bary_nu'): {'axs_00_ylim': 2.2, 'axs_11_ylim': 2}\n",
    "}\n",
    "\n",
    "recon_colors = [\n",
    "[0.0, 0.302, 0.698],  # Medium Blue\n",
    "[0.282, 0.82, 0.8],  # Teal\n",
    "[1.0, 0.647, 0],  # Orange\n",
    "[0.118, 0.565, 1.0],  # Blue\n",
    "[1.0, 0.41, 0.71],  # Pink\n",
    "[0.4, 0.8, 0.2],  # Green\n",
    "[0.729, 0.333, 0.827], # Purple\n",
    "]"
   ]
  },
  {
   "cell_type": "code",
   "execution_count": null,
   "metadata": {},
   "outputs": [],
   "source": [
    "p1 = 'Om'\n",
    "p2 = 's8'"
   ]
  },
  {
   "cell_type": "code",
   "execution_count": null,
   "metadata": {},
   "outputs": [],
   "source": [
    "\n",
    "\n",
    "recon_colors = cosmogrid.recon_colors\n",
    "\n",
    "axs = plot_ellipse(p1,p2,'true','',color=recon_colors[0],label='True',dash=True)\n",
    "plot_ellipse(p1,p2,'true','_mask',axs=axs,color=recon_colors[1],label='True + Mask',dash=True)\n",
    "plot_ellipse(p1,p2,'true','_noise',axs=axs,color=recon_colors[2],label='True + Noise',dash=True)\n",
    "plot_ellipse(p1,p2,'ks','_n+m',axs=axs,color=recon_colors[3],label='Kaiser Squires')\n",
    "plot_ellipse(p1,p2,'wf','_n+m',axs=axs,color=recon_colors[4],label='Wiener Filter')\n",
    "plot_ellipse(p1,p2,'darkmappy','_n+m',axs=axs,color=recon_colors[5],label='$\\\\texttt{Darkmappy}$')\n",
    "plot_ellipse(p1,p2,'deepmass','_n+m',axs=axs,color=recon_colors[6],label='$\\\\texttt{DeepMass}$')\n",
    "plt.savefig(f'plots/contour_{p1}_{p2}.pdf',bbox_inches='tight');"
   ]
  }
 ],
 "metadata": {
  "kernelspec": {
   "display_name": "Python 3",
   "language": "python",
   "name": "python3"
  },
  "language_info": {
   "codemirror_mode": {
    "name": "ipython",
    "version": 3
   },
   "file_extension": ".py",
   "mimetype": "text/x-python",
   "name": "python",
   "nbconvert_exporter": "python",
   "pygments_lexer": "ipython3",
   "version": "3.9.7"
  }
 },
 "nbformat": 4,
 "nbformat_minor": 2
}
